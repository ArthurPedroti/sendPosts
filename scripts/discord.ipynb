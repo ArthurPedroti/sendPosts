{
 "cells": [
  {
   "cell_type": "code",
   "execution_count": 1,
   "metadata": {},
   "outputs": [],
   "source": [
    "import pyperclip\n",
    "import json\n",
    "import time\n",
    "from dotenv import dotenv_values\n",
    "from selenium import webdriver\n",
    "from selenium.webdriver.common.keys import Keys\n",
    "from selenium.webdriver.common.by import By\n",
    "from selenium.webdriver.support.ui import WebDriverWait\n",
    "from selenium.webdriver.support import expected_conditions as EC\n",
    "\n",
    "nav = webdriver.Chrome('../chromedriver.exe')"
   ]
  },
  {
   "cell_type": "code",
   "execution_count": 2,
   "metadata": {},
   "outputs": [],
   "source": [
    "# login\n",
    "config = dotenv_values(\"../.env\")\n",
    "\n",
    "nav.get('https://discord.com/login')\n",
    "nav.find_element_by_xpath('//*[@id=\"app-mount\"]/div[2]/div/div/div/div/form/div/div/div[1]/div[2]/div[1]/div/div[2]/input').send_keys(config.get('EMAIL'))\n",
    "nav.find_element_by_xpath('//*[@id=\"app-mount\"]/div[2]/div/div/div/div/form/div/div/div[1]/div[2]/div[2]/div/input').send_keys(config.get('PASSWORD'))\n",
    "nav.find_element_by_xpath('//*[@id=\"app-mount\"]/div[2]/div/div/div/div/form/div/div/div[1]/div[2]/button[2]').click()"
   ]
  },
  {
   "cell_type": "code",
   "execution_count": null,
   "metadata": {},
   "outputs": [],
   "source": [
    "# close modals\n",
    "\n",
    "# time.sleep(1)\n",
    "# try:\n",
    "#   xbutton = WebDriverWait(nav, 15).until(\n",
    "#     EC.presence_of_element_located((By.XPATH, '//*[@id=\"app-mount\"]/div[5]/div[2]/div/div/div/div[1]/div[2]/button'))\n",
    "#   )\n",
    "# finally:\n",
    "#   xbutton.click()\n"
   ]
  },
  {
   "cell_type": "code",
   "execution_count": null,
   "metadata": {},
   "outputs": [],
   "source": [
    "# send message in the server\n",
    "# All servers\n",
    "servers = ['#dúvidas Mega', '#link-úteis BurnOut', '#links LaunchBase', '#links GoStack', '#links global Rocketseat', '#links Área', '#links react Ignite', '#links native Ignite', '#links node Ignite', '#links elixir Ignite', '#links flutter Ignite', '#links Discover']\n",
    "\n",
    "# node\n",
    "# servers = ['#dúvidas Mega', '#link-úteis BurnOut', '#links LaunchBase', '#links GoStack', '#links global Rocketseat', '#links Área', '#links react Ignite', '#links node Ignite','#links Discover']\n",
    "\n",
    "# react \n",
    "# servers = ['#dúvidas Mega', '#link-úteis BurnOut', '#links LaunchBase', '#links GoStack', '#links global Rocketseat', '#links Área', '#links react Ignite', '#links native Ignite', '#links Discover']\n",
    "\n",
    "for server in servers:\n",
    "  # call search\n",
    "  nav.find_element_by_xpath('/html/body').send_keys(Keys.CONTROL, 'k')\n",
    "  # enter in the server\n",
    "  try:\n",
    "    apserver = WebDriverWait(nav, 10).until(\n",
    "      EC.presence_of_element_located((By.XPATH, '//*[@id=\"app-mount\"]/div[4]/div[2]/div/div/div/input'))\n",
    "    )\n",
    "  finally:\n",
    "    apserver.send_keys(server)\n",
    "    apserver.send_keys(Keys.ENTER)\n",
    "\n",
    "  with open(\"../messages.json\", \"r\", encoding=\"utf-8\") as read_file:\n",
    "    data = json.load(read_file)\n",
    "\n",
    "  # writing the message\n",
    "  message = f\"\"\"{data['discord']['message']}\\n\\n{data['discord']['url']}\\n{data['discord']['hashtags']}\"\"\"\n",
    "  pyperclip.copy(message)\n",
    "\n",
    "  input = nav.find_element_by_xpath('//*[@id=\"app-mount\"]/div[2]/div/div[2]/div/div/div/div/div[2]/div[2]/main/form/div/div/div/div[1]/div/div[3]/div[2]/div')\n",
    "  input.send_keys(Keys.CONTROL, 'v')\n",
    "  input.send_keys(Keys.ENTER)\n",
    "  time.sleep(2)"
   ]
  }
 ],
 "metadata": {
  "interpreter": {
   "hash": "75384fd0ca3c2952361a90566c13d130cab84e43a6c89416ac57c7dceece1b2d"
  },
  "kernelspec": {
   "display_name": "Python 3.8.8 64-bit ('base': conda)",
   "name": "python3"
  },
  "language_info": {
   "codemirror_mode": {
    "name": "ipython",
    "version": 3
   },
   "file_extension": ".py",
   "mimetype": "text/x-python",
   "name": "python",
   "nbconvert_exporter": "python",
   "pygments_lexer": "ipython3",
   "version": "3.8.8"
  },
  "orig_nbformat": 4
 },
 "nbformat": 4,
 "nbformat_minor": 2
}
