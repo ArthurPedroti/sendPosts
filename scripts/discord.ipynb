{
 "cells": [
  {
   "cell_type": "code",
   "execution_count": 1,
   "source": [
    "import pyperclip\r\n",
    "import json\r\n",
    "import time\r\n",
    "from dotenv import dotenv_values\r\n",
    "from selenium import webdriver\r\n",
    "from selenium.webdriver.common.keys import Keys\r\n",
    "from selenium.webdriver.common.by import By\r\n",
    "from selenium.webdriver.support.ui import WebDriverWait\r\n",
    "from selenium.webdriver.support import expected_conditions as EC\r\n",
    "\r\n",
    "nav = webdriver.Chrome('chromedriver.exe')"
   ],
   "outputs": [
    {
     "output_type": "error",
     "ename": "ModuleNotFoundError",
     "evalue": "No module named 'pyperclip'",
     "traceback": [
      "\u001b[1;31m---------------------------------------------------------------------------\u001b[0m",
      "\u001b[1;31mModuleNotFoundError\u001b[0m                       Traceback (most recent call last)",
      "\u001b[1;32m<ipython-input-1-cfec2dd57509>\u001b[0m in \u001b[0;36m<module>\u001b[1;34m\u001b[0m\n\u001b[1;32m----> 1\u001b[1;33m \u001b[1;32mimport\u001b[0m \u001b[0mpyperclip\u001b[0m\u001b[1;33m\u001b[0m\u001b[1;33m\u001b[0m\u001b[0m\n\u001b[0m\u001b[0;32m      2\u001b[0m \u001b[1;32mimport\u001b[0m \u001b[0mjson\u001b[0m\u001b[1;33m\u001b[0m\u001b[1;33m\u001b[0m\u001b[0m\n\u001b[0;32m      3\u001b[0m \u001b[1;32mimport\u001b[0m \u001b[0mtime\u001b[0m\u001b[1;33m\u001b[0m\u001b[1;33m\u001b[0m\u001b[0m\n\u001b[0;32m      4\u001b[0m \u001b[1;32mfrom\u001b[0m \u001b[0mdotenv\u001b[0m \u001b[1;32mimport\u001b[0m \u001b[0mdotenv_values\u001b[0m\u001b[1;33m\u001b[0m\u001b[1;33m\u001b[0m\u001b[0m\n\u001b[0;32m      5\u001b[0m \u001b[1;32mfrom\u001b[0m \u001b[0mselenium\u001b[0m \u001b[1;32mimport\u001b[0m \u001b[0mwebdriver\u001b[0m\u001b[1;33m\u001b[0m\u001b[1;33m\u001b[0m\u001b[0m\n",
      "\u001b[1;31mModuleNotFoundError\u001b[0m: No module named 'pyperclip'"
     ]
    }
   ],
   "metadata": {}
  },
  {
   "cell_type": "code",
   "execution_count": null,
   "source": [
    "# login\r\n",
    "config = dotenv_values(\".env\")\r\n",
    "\r\n",
    "nav.get('https://discord.com/login')\r\n",
    "nav.find_element_by_xpath('//*[@id=\"app-mount\"]/div[2]/div/div/div/div/form/div/div/div[1]/div[2]/div[1]/div/div[2]/input').send_keys(config.get('EMAIL'))\r\n",
    "nav.find_element_by_xpath('//*[@id=\"app-mount\"]/div[2]/div/div/div/div/form/div/div/div[1]/div[2]/div[2]/div/input').send_keys(config.get('PASSWORD'))\r\n",
    "nav.find_element_by_xpath('//*[@id=\"app-mount\"]/div[2]/div/div/div/div/form/div/div/div[1]/div[2]/button[2]').click()"
   ],
   "outputs": [],
   "metadata": {}
  },
  {
   "cell_type": "code",
   "execution_count": null,
   "source": [
    "# close modals\r\n",
    "time.sleep(1)\r\n",
    "try:\r\n",
    "  xbutton = WebDriverWait(nav, 15).until(\r\n",
    "    EC.presence_of_element_located((By.XPATH, '//*[@id=\"app-mount\"]/div[5]/div[2]/div/div/div/div[1]/div[2]/button'))\r\n",
    "  )\r\n",
    "finally:\r\n",
    "  xbutton.click()\r\n"
   ],
   "outputs": [],
   "metadata": {}
  },
  {
   "cell_type": "code",
   "execution_count": null,
   "source": [
    "# send message in the server\r\n",
    "servers = ['#dúvidas Mega', '#link-úteis BurnOut', '#links LaunchBase', '#links GoStack', '#links global Rocketseat', '#links Área', '#links react Ignite', '#links native Ignite', '#links node Ignite']\r\n",
    "\r\n",
    "for server in servers:\r\n",
    "  # call search\r\n",
    "  nav.find_element_by_xpath('/html/body').send_keys(Keys.CONTROL, 'k')\r\n",
    "  # enter in the server\r\n",
    "  try:\r\n",
    "    apserver = WebDriverWait(nav, 10).until(\r\n",
    "      EC.presence_of_element_located((By.XPATH, '//*[@id=\"app-mount\"]/div[3]/div[2]/div/div/div/input'))\r\n",
    "    )\r\n",
    "  finally:\r\n",
    "    apserver.send_keys(server)\r\n",
    "    apserver.send_keys(Keys.ENTER)\r\n",
    "\r\n",
    "  with open(\"messages.json\", \"r\", encoding=\"utf-8\") as read_file:\r\n",
    "    data = json.load(read_file)\r\n",
    "\r\n",
    "  # writing the message\r\n",
    "  message = f\"\"\"{data['discord']['message']}\\n\\n{data['discord']['url']}\\n{data['discord']['hashtags']}\"\"\"\r\n",
    "  pyperclip.copy(message)\r\n",
    "\r\n",
    "  input = nav.find_element_by_xpath('//*[@id=\"app-mount\"]/div[2]/div/div[2]/div/div/div/div[2]/div[2]/div[2]/main/form/div/div/div/div[1]/div/div[3]/div[2]/div')\r\n",
    "  input.send_keys(Keys.CONTROL, 'v')\r\n",
    "  # input.send_keys(Keys.ENTER)"
   ],
   "outputs": [],
   "metadata": {}
  }
 ],
 "metadata": {
  "orig_nbformat": 4,
  "language_info": {
   "name": "python",
   "version": "3.8.8",
   "mimetype": "text/x-python",
   "codemirror_mode": {
    "name": "ipython",
    "version": 3
   },
   "pygments_lexer": "ipython3",
   "nbconvert_exporter": "python",
   "file_extension": ".py"
  },
  "kernelspec": {
   "name": "python3",
   "display_name": "Python 3.8.8 64-bit ('base': conda)"
  },
  "interpreter": {
   "hash": "75384fd0ca3c2952361a90566c13d130cab84e43a6c89416ac57c7dceece1b2d"
  }
 },
 "nbformat": 4,
 "nbformat_minor": 2
}